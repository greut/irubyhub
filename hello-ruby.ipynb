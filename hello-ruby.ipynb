{
 "cells": [
  {
   "cell_type": "markdown",
   "metadata": {
    "slideshow": {
     "slide_type": "slide"
    }
   },
   "source": [
    "# Hello Ruby\n",
    "\n",
    "Yoan Blanc <yoan@dosimple.ch>, HE-Arc 2017\n",
    "\n",
    "![](https://upload.wikimedia.org/wikipedia/commons/thumb/7/73/Ruby_logo.svg/200px-Ruby_logo.svg.png)"
   ]
  },
  {
   "cell_type": "markdown",
   "metadata": {
    "slideshow": {
     "slide_type": "notes"
    }
   },
   "source": [
    "## Introduction\n",
    "\n",
    "**Est-ce que tous les langages, naturels comme de programmation, sont équivalents?**\n",
    "\n",
    "On pense essentiellement avec les mots à notre disposition. Ces mots, concepts, sont utilisés pour construire des concepts plus grands et plus compliqués encore.\n",
    "\n",
    "Un langage de programmation tel que le [_brainfuck_](https://en.wikipedia.org/wiki/Brainfuck) possédant huit opérations, ne permet pas de penser, facilement, beaucoup de chose. Il nous faudra construire beaucoup d'outils.\n",
    "\n",
    "Ruby, se place à l'autre extrême de la machine de _Turing_ avec beaucoup de mots, inspiré du langage naturel tels que `until`, `unless`, `when`, etc.\n",
    "\n",
    "## Philosophie\n",
    "\n",
    "> _“Often people, especially computer engineers, focus on the\n",
    "machines. They think, «By doing this, the machine will run fast. By\n",
    "doing this, the machine will run more effectively. By doing this, the\n",
    "machine will something something something.» They are focusing on\n",
    "machines.\n",
    "> But in fact we need to focus on humans, on how humans care\n",
    "about doing programming or operating the application of the machines.”_\n",
    ">\n",
    "> Yukihiro “Matz” Matsumoto, [http://www.artima.com/intv/ruby4.html](The Philosophy of Ruby)\n",
    "\n",
    "## The Zen of Python?\n",
    "\n",
    "> _Explicit is better than implicit._\n",
    ">\n",
    "> _There should be-- one and preferably only one --obvious way to do it._\n",
    ">\n",
    "> Tim Peters\n",
    "\n",
    "Ceci n'est plus de tout vrai en Ruby où il y a plein de manières d'effectuer la même chose.\n",
    "\n",
    "## Exemples\n",
    "\n",
    "Pour rappel, utilisez _Ctrl+Entrée_ pour exécuter une zone de code."
   ]
  },
  {
   "cell_type": "code",
   "execution_count": null,
   "metadata": {
    "collapsed": false,
    "slideshow": {
     "slide_type": "slide"
    }
   },
   "outputs": [],
   "source": [
    "# L'auteur de Ruby est japonais et Unicode fait partie\n",
    "# intégrante du langage depuis Ruby 1.9 (2007), Python 3 (2008)\n",
    "\n",
    "❤ = 42\n",
    "\n",
    "# https://github.com/mperham/sidekiq/blob/master/lib/sidekiq.rb#L52-L54\n",
    "def ❨╯°□°❩╯︵┻━┻\n",
    "    puts \"Calm down, yo.\"\n",
    "end\n",
    "\n",
    "❨╯°□°❩╯︵┻━┻\n",
    "❤"
   ]
  },
  {
   "cell_type": "code",
   "execution_count": null,
   "metadata": {
    "collapsed": false,
    "slideshow": {
     "slide_type": "slide"
    }
   },
   "outputs": [],
   "source": [
    "# Fonctionnalité grandement appréciée en C# et Python 3.6\n",
    "# de mise en forme de nombres avec un séparateur invisible.\n",
    "\n",
    "grand_nombre = 1_000_000\n",
    "valeur_hexa = 0xDEAD_BEEF\n",
    "\n",
    "\"Valeur hexa %012x\" % valeur_hexa"
   ]
  },
  {
   "cell_type": "markdown",
   "metadata": {
    "slideshow": {
     "slide_type": "slide"
    }
   },
   "source": [
    "### Afficher\n",
    "\n",
    "* `print` (sans retour-ligne),\n",
    "* `puts` (avec retour-ligne),\n",
    "* `p` (alias de `puts`)\n",
    "\n",
    "`%Q` et `%q` viennent du monde [Perl](http://perldoc.perl.org/5.8.9/perlop.html#Quote-Like-Operators)."
   ]
  },
  {
   "cell_type": "code",
   "execution_count": null,
   "metadata": {
    "collapsed": false,
    "slideshow": {
     "slide_type": "-"
    }
   },
   "outputs": [],
   "source": [
    "# apostrophe, pas d'interpolation\n",
    "$stdout.puts 'Hello world!\\n'\n",
    "\n",
    "name = 'HE-Arc'\n",
    "\n",
    "# guillemets, interpolation\n",
    "print \"Hello #{name}\\n\"\n",
    "\n",
    "# Q = guillemets\n",
    "print %Q(Hello #{name}\\n)\n",
    "\n",
    "# q = apostrophe\n",
    "p %q[Hello %s\\n!] % name\n",
    "\n",
    "# Multiligne\n",
    "print %{\n",
    "  Hello #{name}\n",
    "}\n",
    "\n",
    "print <<eos\n",
    "\n",
    "  Hello #{name}\n",
    "eos"
   ]
  },
  {
   "cell_type": "markdown",
   "metadata": {},
   "source": [
    "### Langage naturel"
   ]
  },
  {
   "cell_type": "code",
   "execution_count": null,
   "metadata": {
    "collapsed": false,
    "slideshow": {
     "slide_type": "slide"
    }
   },
   "outputs": [],
   "source": [
    "# On peut essayer d'écrire du code presque lisible en anglais.\n",
    "#\n",
    "# De 1 jusqu'à 5, afficher le compteur, un point et quarante tiret-bas.\n",
    "\n",
    "1.upto(5) { |i| puts \"#{i}. #{'_' * 40}\" }\n",
    "\n",
    "# Alors qu'en Python, ...\n",
    "#\n",
    "# à moins peut-être d'être Néerlandais.\n",
    "\n",
    "python = 'print(\"\\n\".join(\"{0}. {1}\".format(i, \"_\" * 40) for i in range(1, 6)))'\n",
    "\n",
    "require 'open3'\n",
    "puts Open3.capture3('python3', '-c', python)[0]"
   ]
  },
  {
   "cell_type": "markdown",
   "metadata": {},
   "source": [
    "## Bibliothèque standard"
   ]
  },
  {
   "cell_type": "code",
   "execution_count": null,
   "metadata": {
    "collapsed": false,
    "slideshow": {
     "slide_type": "slide"
    }
   },
   "outputs": [],
   "source": [
    "# La bibliothèque standard est très riche\n",
    "#\n",
    "# voir: http://ruby-doc.org/stdlib-2.3.3/\n",
    "require 'date'\n",
    "require 'net/smtp'\n",
    "\n",
    "# Un exemple de `unless`, inverse de `if`\n",
    "Net::SMTP.start('mail', 1025) do |smtp|\n",
    "  smtp.send_message 'mail', 'noreply@iruby', 'yoan.blanc@he-arc.ch' unless Date.today.sunday?\n",
    "end\n",
    "\n",
    "# Il y a également `until`, inverse de  `while`\n",
    "\n",
    "# do ... end forment un bloc, que ne verrons plus loin."
   ]
  },
  {
   "cell_type": "markdown",
   "metadata": {
    "slideshow": {
     "slide_type": "slide"
    }
   },
   "source": [
    "## Exemple fonctionnel\n",
    "\n",
    "Après le cours de C#, j'imagine que LINQ et un semblant de programmation fonctionnelle n'ont plus de secret pour vous."
   ]
  },
  {
   "cell_type": "code",
   "execution_count": null,
   "metadata": {
    "collapsed": false,
    "slideshow": {
     "slide_type": "-"
    }
   },
   "outputs": [],
   "source": [
    "x = 10\n",
    "\n",
    "# a..b est une alternative à .upto\n",
    "# select et inject permettent un petit map/reduce\n",
    "(x..x**2)\n",
    "  .select { |x| x % 7 == 0 }\n",
    "  .inject { |sum, x| sum += x }"
   ]
  },
  {
   "cell_type": "code",
   "execution_count": null,
   "metadata": {
    "collapsed": false,
    "slideshow": {
     "slide_type": "slide"
    }
   },
   "outputs": [],
   "source": [
    "x = 10\n",
    "\n",
    "# tap (la commande UNIX tee) permet de venir se brancher sur un flux sans le modifier\n",
    "(x..x**2)\n",
    "  .tap { |xs| p xs }\n",
    "  .select { |x| x % 7 == 0 }\n",
    "  .tap { |xs| p xs }\n",
    "  .inject { |sum, x| sum += x }"
   ]
  },
  {
   "cell_type": "markdown",
   "metadata": {
    "slideshow": {
     "slide_type": "slide"
    }
   },
   "source": [
    "## Tout est objet\n",
    "\n",
    "Pas de surprise."
   ]
  },
  {
   "cell_type": "code",
   "execution_count": null,
   "metadata": {
    "collapsed": false,
    "slideshow": {
     "slide_type": "-"
    }
   },
   "outputs": [],
   "source": [
    "[3, 3e-1, \"foo\", :boo, true, false, nil, /^\\d+$/, Integer, Class] .each do |o|\n",
    "  p o.class\n",
    "end"
   ]
  },
  {
   "cell_type": "markdown",
   "metadata": {
    "slideshow": {
     "slide_type": "slide"
    }
   },
   "source": [
    "## Tout est appel de fonction\n",
    "### voire même envoi de message\n",
    "\n",
    "**Attention:** ceci est nouveau pour la plupart d'entre vous.\n",
    "\n",
    "![](https://i.imgflip.com/1fkllf.jpg)\n",
    "\n",
    "> _In Objective-C one does not **call a method**; one **sends a message**._\n",
    ">\n",
    "> https://en.wikipedia.org/wiki/Objective-C\n",
    "\n",
    "On peut donc réexprimer tout appel de méthode, en un envoi de message avec `.send`.\n",
    "\n",
    "Pour les plus curieux, ce principe se retrouve dans Smalltalk, Objective C ou Erlang."
   ]
  },
  {
   "cell_type": "code",
   "execution_count": null,
   "metadata": {
    "collapsed": false,
    "slideshow": {
     "slide_type": "slide"
    }
   },
   "outputs": [],
   "source": [
    "p 1 + 2\n",
    "p 1 .+ ( 2 )\n",
    "p 1 .send( :+, 2 )\n",
    "\n",
    "ary = [1,2,3]\n",
    "ary[0] = \"hello\"\n",
    "ary .[]=(1, \"world\")\n",
    "ary .send :'[]=', 2, \"!\"\n",
    "\n",
    "ary"
   ]
  },
  {
   "cell_type": "markdown",
   "metadata": {},
   "source": [
    "## Tout retourne une valeur\n",
    "\n",
    "Ou presque ce qui permet d'écrire de manière dite _fluide_ en chaînant les appels."
   ]
  },
  {
   "cell_type": "code",
   "execution_count": null,
   "metadata": {
    "collapsed": false
   },
   "outputs": [],
   "source": [
    "a = if true\n",
    "   \"A\"\n",
    "else\n",
    "   \"B\"\n",
    "end\n",
    "\n",
    "b = [1,2,3]\n",
    "  .each { |x| p x }\n",
    "  .each { |x| p x + 10 }\n",
    "\n",
    "[a, b]"
   ]
  },
  {
   "cell_type": "markdown",
   "metadata": {
    "slideshow": {
     "slide_type": "slide"
    }
   },
   "source": [
    "## Quatre types de variables\n",
    "\n",
    "1. `$globale`\n",
    "2. `locale`\n",
    "3. `@instance` (_protected_)\n",
    "4. `@@classe` (_protected static_)\n",
    "\n",
    "Et des CONSTANTES."
   ]
  },
  {
   "cell_type": "code",
   "execution_count": null,
   "metadata": {
    "collapsed": false
   },
   "outputs": [],
   "source": [
    "# Une constante...\n",
    "LIFE = 42\n",
    "\n",
    "# pas vraiment constante ;-)\n",
    "LIFE += 624"
   ]
  },
  {
   "cell_type": "markdown",
   "metadata": {},
   "source": [
    "### Visibilités\n",
    "\n",
    "S'il y a une chose importante à mémoriser et/ou noter quelque part, c'est ceci.\n",
    "\n",
    "**La seule visibilité possible pour les membres d'une classe est `protected`.**\n",
    "\n",
    "Pour les méthodes, il existe `public` (par défaut), `protected` et `private`. `private` est masqué même pour les autres instances d'une même classe. Contrairement à Java."
   ]
  },
  {
   "cell_type": "code",
   "execution_count": null,
   "metadata": {
    "collapsed": false
   },
   "outputs": [],
   "source": [
    "class Person\n",
    "  # http://ruby-doc.org/core-2.4.0/Comparable.html\n",
    "  include Comparable\n",
    "\n",
    "  def initialize(name)\n",
    "    @name = name\n",
    "  end\n",
    "\n",
    "  def <=> (other)\n",
    "    # Illégal\n",
    "    # other.secret\n",
    "    return @name <=> other.name\n",
    "  end\n",
    "  \n",
    "protected\n",
    "  def name\n",
    "    @name\n",
    "  end\n",
    "  \n",
    "private\n",
    "  def secret\n",
    "    p \"secret\"\n",
    "    self\n",
    "  end\n",
    "end\n",
    "\n",
    "john = Person.new(\"John\")\n",
    "\n",
    "# Illégal\n",
    "# john.name\n",
    "\n",
    "p john > Person.new(\"Bar\")\n",
    "\n",
    "# Il est toujours possible de passer outre!\n",
    "puts john.instance_eval { @name }\n",
    "john.send :secret"
   ]
  },
  {
   "cell_type": "markdown",
   "metadata": {
    "slideshow": {
     "slide_type": "slide"
    }
   },
   "source": [
    "## Quiz\n",
    "\n",
    "Devinez ce qui va être affiché en 1, 2 et 3 avant d'éxectuer le code suivant."
   ]
  },
  {
   "cell_type": "code",
   "execution_count": null,
   "metadata": {
    "collapsed": false,
    "slideshow": {
     "slide_type": "subslide"
    }
   },
   "outputs": [],
   "source": [
    "=begin\n",
    "Source: O'Reilly: The Ruby Programming Language, Chapter 4, 4.5.1 Assigning to Variables\n",
    "=end\n",
    "\n",
    "class Quiz1\n",
    "  def x\n",
    "    \"foo\"\n",
    "  end\n",
    "\n",
    "  def test\n",
    "    puts \"1. #{x}\"\n",
    "    \n",
    "    x = \"bar\" if false\n",
    "    \n",
    "    puts \"2. #{x}\"\n",
    "    \n",
    "    x = \"spam\"\n",
    "    \n",
    "    puts \"3. #{x}\"\n",
    "  end\n",
    "end\n",
    "\n",
    "q = Quiz1.new\n",
    "q.test"
   ]
  },
  {
   "cell_type": "markdown",
   "metadata": {
    "slideshow": {
     "slide_type": "slide"
    }
   },
   "source": [
    "## Comparaison\n",
    "\n",
    "C'est tout simplement **l'inverse de Java**.\n",
    "\n",
    "Pour rappel :\n",
    "\n",
    "```java\n",
    "String x = new String(\"Java\");\n",
    "String y = new String(\"Java\");\n",
    "\n",
    "// false\n",
    "x == y;\n",
    "// true\n",
    "x.equals(y)\n",
    "```\n",
    "\n",
    "Vous notez qu'un prédicat, retournant une valeur booléenne, se termine généralement par un point d'interrogation `?`. C'est une manière de notifier le lecteur de ce qui est obtenu."
   ]
  },
  {
   "cell_type": "code",
   "execution_count": null,
   "metadata": {
    "collapsed": false,
    "slideshow": {
     "slide_type": "slide"
    }
   },
   "outputs": [],
   "source": [
    "x = \"Ruby\"\n",
    "y = \"Ruby\"\n",
    "\n",
    "p x == y\n",
    "p x .eql? y   # .eql? est la méthode cachée derrière ==\n",
    "p x .equal? y"
   ]
  },
  {
   "cell_type": "markdown",
   "metadata": {
    "slideshow": {
     "slide_type": "slide"
    }
   },
   "source": [
    "## Muable par défaut\n",
    "\n",
    "Comme très peu de langages de haut niveau dont vous avez l'habitude tout est modifiable pas défaut.\n",
    "\n",
    "### Exemple Python\n",
    "\n",
    "```python\n",
    "foo = \"HE-Arc\n",
    "bar = foo\n",
    "\n",
    "bar += \" Ingénierie\"\n",
    "print(foo)\n",
    "# HE-Arc\n",
    "```"
   ]
  },
  {
   "cell_type": "markdown",
   "metadata": {
    "slideshow": {
     "slide_type": "slide"
    }
   },
   "source": [
    "### Exemple Ruby"
   ]
  },
  {
   "cell_type": "code",
   "execution_count": null,
   "metadata": {
    "collapsed": false,
    "slideshow": {
     "slide_type": "-"
    }
   },
   "outputs": [],
   "source": [
    "foo = \"HE-Arc\"\n",
    "bar = foo\n",
    "\n",
    "bar << \" Ingénierie\"\n",
    "puts foo"
   ]
  },
  {
   "cell_type": "markdown",
   "metadata": {
    "slideshow": {
     "slide_type": "slide"
    }
   },
   "source": [
    "### Immuable\n",
    "\n",
    "Heureusement, on peut _freezer_ un objet."
   ]
  },
  {
   "cell_type": "code",
   "execution_count": null,
   "metadata": {
    "collapsed": false,
    "slideshow": {
     "slide_type": "-"
    }
   },
   "outputs": [],
   "source": [
    "foo = \"HE-Arc\"\n",
    "foo.freeze\n",
    "p foo.frozen?\n",
    "\n",
    "foo << \"i\""
   ]
  },
  {
   "cell_type": "markdown",
   "metadata": {
    "slideshow": {
     "slide_type": "notes"
    }
   },
   "source": [
    "**NB:** Il n'y a aucun moyen de libérer, _ni_ de délivrer un objet gelé."
   ]
  },
  {
   "cell_type": "markdown",
   "metadata": {
    "slideshow": {
     "slide_type": "slide"
    }
   },
   "source": [
    "## Actions immuable par défaut\n",
    "\n",
    "Par défaut, une action va retourner un objet modifié sans affecter l'élément de départ.\n",
    "\n",
    "Vous notez que quand on utilise la _force_, le nom de la méthode (ou du message) se termine par un point d'exclamation `!`. Ceci permet de notifier au lecteur que c'est une action avec un effet secondaire."
   ]
  },
  {
   "cell_type": "code",
   "execution_count": null,
   "metadata": {
    "collapsed": false,
    "slideshow": {
     "slide_type": "-"
    }
   },
   "outputs": [],
   "source": [
    "foo = \"HE-Arc\"\n",
    "p foo.reverse\n",
    "p foo\n",
    "\n",
    "# Use the force!\n",
    "p foo.reverse!\n",
    "foo"
   ]
  },
  {
   "cell_type": "markdown",
   "metadata": {
    "slideshow": {
     "slide_type": "slide"
    }
   },
   "source": [
    "## Symboles\n",
    "\n",
    "Nous les avons croisé rapidement.\n",
    "\n",
    "Ce sont tout simplement des nombres entiers, immuables, avec une représentation destinée aux humains."
   ]
  },
  {
   "cell_type": "code",
   "execution_count": null,
   "metadata": {
    "collapsed": false,
    "slideshow": {
     "slide_type": "-"
    }
   },
   "outputs": [],
   "source": [
    "foo = :un_symbole\n",
    "\n",
    "bar = :'un_symbole'\n",
    "\n",
    "p foo == bar\n",
    "p foo .equal? bar\n",
    "p foo.object_id == bar.object_id"
   ]
  },
  {
   "cell_type": "markdown",
   "metadata": {
    "slideshow": {
     "slide_type": "slide"
    }
   },
   "source": [
    "### Exemple d'utilisation des symboles\n",
    "\n",
    "`attr_accessor`, `attr_reader` ou `attr_writer` sont des exemples d'utilisation de la méta-programmation (du code qui fabrique du code)."
   ]
  },
  {
   "cell_type": "code",
   "execution_count": null,
   "metadata": {
    "collapsed": false,
    "slideshow": {
     "slide_type": "-"
    }
   },
   "outputs": [],
   "source": [
    "class Foo\n",
    "  # S'occupe de créer les getter/setter pour bar, nommés bar= et bar\n",
    "  attr_accessor :bar\n",
    "  attr_writer :spam\n",
    "  \n",
    "  def initialize(bar)\n",
    "    @bar = bar\n",
    "    @spam = bar.reverse\n",
    "  end\n",
    "end\n",
    "\n",
    "foo = Foo.new(\"Spam\")\n",
    "\n",
    "# Ceci est un appel de méthode!\n",
    "p foo.bar\n",
    "\n",
    "p foo.respond_to? :bar=\n",
    "\n",
    "# @spam n'est pas lisible depuis l'extérieur\n",
    "p foo.respond_to? :spam"
   ]
  },
  {
   "cell_type": "markdown",
   "metadata": {},
   "source": [
    "## Listes\n",
    "\n",
    "Comme une liste en Python : __muable, ordonnée et *parfois* hétérogène__."
   ]
  },
  {
   "cell_type": "code",
   "execution_count": null,
   "metadata": {
    "collapsed": false
   },
   "outputs": [],
   "source": [
    "[1, 2, 3, 'foo', :biz, nil, true]"
   ]
  },
  {
   "cell_type": "markdown",
   "metadata": {},
   "source": [
    "## Tables de hachage\n",
    "\n",
    "Le parfait exemple d'utilisation des symboles en tant que clé."
   ]
  },
  {
   "cell_type": "code",
   "execution_count": null,
   "metadata": {
    "collapsed": false
   },
   "outputs": [],
   "source": [
    "# Le premier est un sucre syntaxique du second.\n",
    "person = {givenname: \"Yoan\", :lastname => \"Blanc\"}\n",
    "\n",
    "p person\n",
    "p person[\"givenname\"] # => nil ??\n",
    "\n",
    "\n",
    "rot13 = {'a': 'n', 'b' => 'o'}\n",
    "# la syntaxe avec le deux-points créé un symbole\n",
    "p rot13['a']\n",
    "# il faut utiliser la flèche pour avoir une chaîne de caractères comme clé\n",
    "p rot13['b']\n",
    "\n",
    "# Si on utilise des nombres, la flèche est obligatoire.\n",
    "mapping = {1 => 2, 3 => 4}"
   ]
  },
  {
   "cell_type": "markdown",
   "metadata": {},
   "source": [
    "## Héritage\n",
    "\n",
    "Comme en Java, héritage simple uniquement. Une classe est *ouverte* et modifiable à sa guise."
   ]
  },
  {
   "cell_type": "code",
   "execution_count": null,
   "metadata": {
    "collapsed": false
   },
   "outputs": [],
   "source": [
    "class Animal\n",
    "  def initialize(name)\n",
    "    @name = name\n",
    "  end\n",
    "end\n",
    "\n",
    "class Mammal < Animal\n",
    "  def initialize(name)\n",
    "    super(name.upcase)\n",
    "  end\n",
    "end\n",
    "\n",
    "# Ceci n'est pas une redéfinition.\n",
    "class Mammal\n",
    "  def to_s\n",
    "    \"Hey, my name is #{@name}\"\n",
    "  end\n",
    "end\n",
    "\n",
    "print Mammal.new('Yoan')"
   ]
  },
  {
   "cell_type": "markdown",
   "metadata": {},
   "source": [
    "## Composition\n",
    "\n",
    "En PHP, c'est le mot-clé `trait` qui était utilisé. Ruby offre deux mécanismes.\n",
    "\n",
    "1. `include`\n",
    "2. `extends`"
   ]
  },
  {
   "cell_type": "code",
   "execution_count": null,
   "metadata": {
    "collapsed": false
   },
   "outputs": [],
   "source": [
    "require 'singleton'\n",
    "\n",
    "class MyLogger\n",
    "  include Singleton\n",
    "  \n",
    "  attr_accessor :level, :stream\n",
    "  \n",
    "  def log(message)\n",
    "    @stream.write(\"[#{@level}] #{message}\\n\")\n",
    "  end\n",
    "  \n",
    "  # Méthode statique\n",
    "  def self.log(message)\n",
    "    instance.log(message)\n",
    "  end\n",
    "end\n",
    "\n",
    "# Impossible car le constructeur est privé.\n",
    "# MyLogger.new\n",
    "\n",
    "l = MyLogger.instance\n",
    "l.stream = $stderr\n",
    "l.level = :debug\n",
    "\n",
    "l.log(\"Hello\")\n",
    "MyLogger.log(\"world!\")"
   ]
  },
  {
   "cell_type": "markdown",
   "metadata": {},
   "source": [
    "## Module\n",
    "\n",
    "`Singleton` est un module. Un module est simplement un espace de noms.\n",
    "\n",
    "Comme une classe, un module est ouvert et modifiable, partout, tout le temps."
   ]
  },
  {
   "cell_type": "code",
   "execution_count": null,
   "metadata": {
    "collapsed": false
   },
   "outputs": [],
   "source": [
    "module Foo\n",
    "  module Bar\n",
    "    module Derp\n",
    "      def self.hello\n",
    "        \"Hello\"\n",
    "      end\n",
    "    end\n",
    "  end\n",
    "end\n",
    "\n",
    "module Foo::Bar\n",
    "  def Derp.world\n",
    "    \"#{hello} world!\"\n",
    "  end\n",
    "end\n",
    "\n",
    "Foo::Bar::Derp::world"
   ]
  },
  {
   "cell_type": "markdown",
   "metadata": {},
   "source": [
    "## Monkeypatching\n",
    "\n",
    "ou _Duck punching_"
   ]
  },
  {
   "cell_type": "code",
   "execution_count": null,
   "metadata": {
    "collapsed": false
   },
   "outputs": [],
   "source": [
    "p \"\".empty?\n",
    "p \" \".empty?"
   ]
  },
  {
   "cell_type": "markdown",
   "metadata": {},
   "source": [
    "[ActiveSupport](http://api.rubyonrails.org/classes/ActiveSupport.html) fait partie de Ruby on Rails et va modifier toutes vos chaînes de charactères (`String`)."
   ]
  },
  {
   "cell_type": "code",
   "execution_count": null,
   "metadata": {
    "collapsed": false
   },
   "outputs": [],
   "source": [
    "# gem install activesupport\n",
    "require 'active_support/all'\n",
    "\n",
    "p \"\".blank?\n",
    "p \" \".blank?"
   ]
  },
  {
   "cell_type": "markdown",
   "metadata": {},
   "source": [
    "### D'ou vient mon code?\n",
    "\n",
    "Un des problèmes de l'abus du _monkeypatching_ étant de retrouver une définition."
   ]
  },
  {
   "cell_type": "code",
   "execution_count": null,
   "metadata": {
    "collapsed": false
   },
   "outputs": [],
   "source": [
    "require 'pry'\n",
    "Pry.start\n",
    "\n",
    "show-doc \"\".blank?"
   ]
  },
  {
   "cell_type": "code",
   "execution_count": null,
   "metadata": {
    "collapsed": false
   },
   "outputs": [],
   "source": [
    "require 'pry'\n",
    "Pry.start\n",
    "\n",
    "show-method \"\".blank?"
   ]
  },
  {
   "cell_type": "markdown",
   "metadata": {},
   "source": [
    "`Pry` est super pratique."
   ]
  },
  {
   "cell_type": "code",
   "execution_count": null,
   "metadata": {
    "collapsed": false
   },
   "outputs": [],
   "source": [
    "ls Array"
   ]
  },
  {
   "cell_type": "markdown",
   "metadata": {},
   "source": [
    "## Bloc\n",
    "\n",
    "Une fonction ou méthode, utilisant l'expression `yield` peu accepter un bloc. En Python, ceci se ferait à l'aide d'un `with`.\n",
    "\n",
    "Un bloc va généralement être déclaré à l'aide d'accolades `{ }` pour une expression simple. Ou d'un `do ... end` si le code s'étend sur plusieurs lignes.\n",
    "\n",
    "Un bloc peut-être déclaré de manière explicite avec `&` (e.g. `&block`)."
   ]
  },
  {
   "cell_type": "code",
   "execution_count": null,
   "metadata": {
    "collapsed": false
   },
   "outputs": [],
   "source": [
    "def timeit(message = nil)\n",
    "  start = Time.now\n",
    "  yield if block_given?                     # ou avec &block: block.call()\n",
    "  print \"#{message}: \" unless message.nil?\n",
    "  puts \"#{Time.now - start} secs\"\n",
    "end\n",
    "\n",
    "timeit { sleep 1 }\n",
    "timeit do\n",
    "  sleep 2\n",
    "end"
   ]
  },
  {
   "cell_type": "markdown",
   "metadata": {},
   "source": [
    "## Méta-programmation\n",
    "\n",
    "Ruby permet de répondre à des méthodes non existantes. Car ce ne sont que des envois de messages si vous vous rappelez bien."
   ]
  },
  {
   "cell_type": "code",
   "execution_count": null,
   "metadata": {
    "collapsed": false
   },
   "outputs": [],
   "source": [
    "require 'active_support/all'\n",
    "\n",
    "env = ActiveSupport::StringInquirer.new(\"test\")\n",
    "\n",
    "puts env\n",
    "# On peut appeler la méthode directement\n",
    "puts env.test?\n",
    "puts env.respond_to? :test? \n",
    "# Mais, cette méthode n'est pas listée dans la liste des méthodes d'un objet\n",
    "puts env.methods.include? :test?"
   ]
  },
  {
   "cell_type": "code",
   "execution_count": null,
   "metadata": {
    "collapsed": false
   },
   "outputs": [],
   "source": [
    "# Afficher le code source `ActiveSupport::StringInquirer`\n",
    "\n",
    "require 'pry'\n",
    "Pry.start\n",
    "\n",
    "show-method ActiveSupport::StringInquirer"
   ]
  },
  {
   "cell_type": "markdown",
   "metadata": {},
   "source": [
    "## Exercice\n",
    "\n",
    "### Créer un langage dédié (DSL)\n",
    "\n",
    "Sans installer `PLY`, complèter la class `Quiz` afin que les appels aboutissent et produise un quiz à plusieurs questions."
   ]
  },
  {
   "cell_type": "code",
   "execution_count": null,
   "metadata": {
    "collapsed": false
   },
   "outputs": [],
   "source": [
    "source = <<EOF\n",
    "  question \"Ruby est un langage\"\n",
    "    juste \"de programmation multi-paradigme\"\n",
    "    faux  \"de programmation pour système Apple\"\n",
    "    faux  \"parlé dans certaines îles du Pacifique\"\n",
    "\n",
    "  question \"La terre est-elle plate?\"\n",
    "    faux \"Oui\"\n",
    "    juste \"Non\"\n",
    "EOF\n",
    "\n",
    "class Question\n",
    "  attr_accessor :title, :answers, :correct\n",
    "  \n",
    "  def initialize(title)\n",
    "    @title = title\n",
    "    @answers = []\n",
    "  end\n",
    "end\n",
    "\n",
    "class Quiz\n",
    "  def initialize\n",
    "    @questions = []\n",
    "  end\n",
    "  \n",
    "  def question(title)\n",
    "    puts title\n",
    "  end\n",
    "  \n",
    "  #def juste(str)\n",
    "  #  puts str\n",
    "  #end\n",
    "  \n",
    "  def run\n",
    "    return unless @questions.size > 0\n",
    "\n",
    "    questions = @questions\n",
    "    answers = IRuby.form do\n",
    "      questions.each do |q|\n",
    "        radio q.title.to_sym, *q.answers, label: q.title\n",
    "      end\n",
    "      button\n",
    "    end\n",
    "\n",
    "    return questions.select { |q| answers[q.title.to_sym] == q.correct }.size, @questions.size\n",
    "  end\n",
    "end\n",
    "\n",
    "q = Quiz.new\n",
    "q.instance_eval(source)\n",
    "q.run"
   ]
  },
  {
   "cell_type": "markdown",
   "metadata": {},
   "source": [
    "## Fin\n",
    "\n",
    "![](https://github.com/images/error/angry_unicorn.png)"
   ]
  },
  {
   "cell_type": "code",
   "execution_count": null,
   "metadata": {
    "collapsed": false
   },
   "outputs": [],
   "source": [
    "# Styles...\n",
    "\n",
    "require 'iruby'\n",
    "\n",
    "IRuby.display <<-eos, mime: 'text/html'\n",
    "<style>\n",
    "  .text_cell_render h1,\n",
    "  .text_cell_render h2,\n",
    "  .text_cell_render h3,\n",
    "  .jp-RenderedHTMLCommon h1,\n",
    "  .jp-RenderedHTMLCommon h2,\n",
    "  .jp-RenderedHTMLCommon h3 {\n",
    "    font-weight: normal;\n",
    "  }\n",
    "  .text_cell_render blockquote em,\n",
    "  .jp-RenderedHTMLCommon blockquote em {\n",
    "    font-size: 120%;  \n",
    "  }\n",
    "  .text_cell_render,\n",
    "  .jp-RenderedHTMLCommon,\n",
    "  .jp-Output-result.jp-RenderedText {\n",
    "    font-size: 130%;\n",
    "    line-height: 1.5;\n",
    "  }\n",
    "  .jp-RenderedHTMLCommon,\n",
    "  {\n",
    "    font-size: 130%; \n",
    "    line-height: 1.5;\n",
    "  }\n",
    "  .CodeMirror,\n",
    "  .jp-Output-result.jp-RenderedText {\n",
    "    font-size: 150%;\n",
    "    line-height: 1.5;\n",
    "  }\n",
    "</style>\n",
    "eos\n",
    "nil"
   ]
  }
 ],
 "metadata": {
  "kernelspec": {
   "display_name": "Ruby 2.3.3",
   "language": "ruby",
   "name": "ruby"
  },
  "language_info": {
   "file_extension": ".rb",
   "mimetype": "application/x-ruby",
   "name": "ruby",
   "version": "2.3.3"
  }
 },
 "nbformat": 4,
 "nbformat_minor": 1
}
